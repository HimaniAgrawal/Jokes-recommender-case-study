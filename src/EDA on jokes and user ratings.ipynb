{
 "cells": [
  {
   "cell_type": "code",
   "execution_count": 1,
   "metadata": {
    "collapsed": false
   },
   "outputs": [
    {
     "name": "stdout",
     "output_type": "stream",
     "text": [
      "This non-commercial license of GraphLab Create for academic use is assigned to hagrawal@uh.edu and will expire on October 13, 2017.\n"
     ]
    },
    {
     "name": "stderr",
     "output_type": "stream",
     "text": [
      "[INFO] graphlab.cython.cy_server: GraphLab Create v2.1 started. Logging: /tmp/graphlab_server_1505430647.log\n"
     ]
    }
   ],
   "source": [
    "import string\n",
    "import graphlab\n",
    "import numpy as np\n",
    "%matplotlib inline\n",
    "import pandas as pd\n",
    "import seaborn as sns\n",
    "import matplotlib.pyplot as plt\n",
    "from sklearn.metrics import r2_score\n",
    "from sklearn.metrics import mean_squared_error"
   ]
  },
  {
   "cell_type": "markdown",
   "metadata": {},
   "source": [
    "# Jokes data and user ratings, data cleaning"
   ]
  },
  {
   "cell_type": "code",
   "execution_count": 2,
   "metadata": {
    "collapsed": true
   },
   "outputs": [],
   "source": [
    "def clean_data():\n",
    "    with open('data/jokes.dat') as f:\n",
    "        text = f.read().lower().split('</p>')\n",
    "        text = [line.replace('\\r', '') for line in text]\n",
    "        text = [line.replace('\\n', '') for line in text]\n",
    "        text = [line.replace('<br />', '') for line in text]\n",
    "        text = [line.replace('<p>', '') for line in text]\n",
    "        text = [line.replace('&quot;', '') for line in text]\n",
    "        text = [line.replace('&#039;', '') for line in text]\n",
    "        #text = [re.sub(\" \\d+\", \" \", line) for line in text]\n",
    "        text = [line.split(':', 1)[-1] for line in text]\n",
    "        #text = text[:150]\n",
    "    return text"
   ]
  },
  {
   "cell_type": "code",
   "execution_count": 3,
   "metadata": {
    "collapsed": false
   },
   "outputs": [
    {
     "data": {
      "text/plain": [
       "'a man visits the doctor. the doctor says, i have bad news for you. you have cancer and alzheimers disease.the man replies, well, thank god i dont have cancer!'"
      ]
     },
     "execution_count": 3,
     "metadata": {},
     "output_type": "execute_result"
    }
   ],
   "source": [
    "text = clean_data()\n",
    "text[0]"
   ]
  },
  {
   "cell_type": "code",
   "execution_count": 6,
   "metadata": {
    "collapsed": true
   },
   "outputs": [],
   "source": [
    "user_ratings_train = pd.read_csv('data/ratings.csv', sep='\\t')\n",
    "user_ratings_test = pd.read_csv('data/test_ratings.csv', sep=',')\n",
    "train_data = graphlab.SFrame(user_ratings)\n",
    "test_data = graphlab.SFrame(test_ratings)"
   ]
  },
  {
   "cell_type": "code",
   "execution_count": 7,
   "metadata": {
    "collapsed": false
   },
   "outputs": [
    {
     "data": {
      "text/html": [
       "<div>\n",
       "<style>\n",
       "    .dataframe thead tr:only-child th {\n",
       "        text-align: right;\n",
       "    }\n",
       "\n",
       "    .dataframe thead th {\n",
       "        text-align: left;\n",
       "    }\n",
       "\n",
       "    .dataframe tbody tr th {\n",
       "        vertical-align: top;\n",
       "    }\n",
       "</style>\n",
       "<table border=\"1\" class=\"dataframe\">\n",
       "  <thead>\n",
       "    <tr style=\"text-align: right;\">\n",
       "      <th></th>\n",
       "      <th>user_id</th>\n",
       "      <th>joke_id</th>\n",
       "      <th>rating</th>\n",
       "    </tr>\n",
       "  </thead>\n",
       "  <tbody>\n",
       "    <tr>\n",
       "      <th>0</th>\n",
       "      <td>34888</td>\n",
       "      <td>111</td>\n",
       "      <td>-9.71875</td>\n",
       "    </tr>\n",
       "    <tr>\n",
       "      <th>1</th>\n",
       "      <td>49651</td>\n",
       "      <td>119</td>\n",
       "      <td>4.75000</td>\n",
       "    </tr>\n",
       "    <tr>\n",
       "      <th>2</th>\n",
       "      <td>29027</td>\n",
       "      <td>137</td>\n",
       "      <td>2.62500</td>\n",
       "    </tr>\n",
       "    <tr>\n",
       "      <th>3</th>\n",
       "      <td>25235</td>\n",
       "      <td>30</td>\n",
       "      <td>-2.43750</td>\n",
       "    </tr>\n",
       "    <tr>\n",
       "      <th>4</th>\n",
       "      <td>50499</td>\n",
       "      <td>19</td>\n",
       "      <td>2.18750</td>\n",
       "    </tr>\n",
       "  </tbody>\n",
       "</table>\n",
       "</div>"
      ],
      "text/plain": [
       "   user_id  joke_id   rating\n",
       "0    34888      111 -9.71875\n",
       "1    49651      119  4.75000\n",
       "2    29027      137  2.62500\n",
       "3    25235       30 -2.43750\n",
       "4    50499       19  2.18750"
      ]
     },
     "execution_count": 7,
     "metadata": {},
     "output_type": "execute_result"
    }
   ],
   "source": [
    "user_ratings_train.head(5)"
   ]
  },
  {
   "cell_type": "code",
   "execution_count": 8,
   "metadata": {
    "collapsed": false
   },
   "outputs": [
    {
     "data": {
      "text/plain": [
       "<matplotlib.axes._subplots.AxesSubplot at 0x1194f2150>"
      ]
     },
     "execution_count": 8,
     "metadata": {},
     "output_type": "execute_result"
    },
    {
     "data": {
      "image/png": "[encoded data removed]",
      "text/plain": [
       "<matplotlib.figure.Figure at 0x1194f2890>"
      ]
     },
     "metadata": {},
     "output_type": "display_data"
    }
   ],
   "source": [
    "sns.distplot(user_ratings_train['rating'])"
   ]
  },
  {
   "cell_type": "code",
   "execution_count": 9,
   "metadata": {
    "collapsed": false
   },
   "outputs": [
    {
     "data": {
      "text/plain": [
       "['did you hear that clinton has announced that there is a new national bird?the spread eagle.',\n",
       " 'judy was having trouble with her computer, so she called tony, the computer guy, over to her desk. tony clicked a couple buttons and solved the problem. as he was walking away, judy called after him, so, what was wrong?and he replied, it was an id ten t error.a puzzled expression ran riot over judys face. an id ten t error? whats that...in case i need to fix it again?he gave her a grin...havent you ever heard of an id ten t error before?no, replied judy.write it down, he said, and i think youll figure it out.(she wrote...) i d 1 0 t',\n",
       " 'the new employee stood before the paper shredder looking confused.need some help? a secretary asked.yes, he replied. how does this thing work?simple, she said, taking the fat report from his hand and feeding it into the shredder.thanks, but where do the copies come out?',\n",
       " 'why are there so many joness in the phone book?because they all have phones.',\n",
       " 'what do you call an american in the finals of the world cup?hey beer man!']"
      ]
     },
     "execution_count": 9,
     "metadata": {},
     "output_type": "execute_result"
    }
   ],
   "source": [
    "filter_good_rating = user_ratings_train[user_ratings_train.rating > 8]\n",
    "jokes_good_rating = filter_good_rating.joke_id.unique()\n",
    "[text[i-1] for i in jokes_good_rating][:5]"
   ]
  },
  {
   "cell_type": "code",
   "execution_count": 10,
   "metadata": {
    "collapsed": false
   },
   "outputs": [
    {
     "data": {
      "text/plain": [
       "['a new business was opening and one of the owners friends wanted to send him flowers for the occasion. they arrived at the new business site and the owner read the card, rest in peace.the owner was angry and called the florist to complain.after he had told the florist of the obvious mistake and how angry he was, the florist replied, sir, im really sorry for the mistake, but rather than getting angry, you should imagine this: somewhere there is a funeral taking place today, and they have flowers with a note saying, congratulations on your new location!',\n",
       " 'in a veterans day speech, president bush vowed, we will finish the mission. period. afterwards, he was advised that he doesnt have to read the punctuation marks.',\n",
       " 'a boy comes home from school and tells his mother that he got a part in the school play. what part? the mother asks. i play a jewish husband, the boy replies.go back to school and tell your teacher that you want a speaking role!',\n",
       " 'one day, three men went to a shrine to ask the father for forgiveness.the first man went to the father...first man: father, father, i have sinned!father: what have you done?first man: i have lied!father: drink the holy water and you will be saved.and so the man drank the water and was saved.the second man went up to the father...second man: father, father, i have sinned!father: what have you done?second man: i have stolen from the jewelers!father: drink the holy water and you will be saved.and so the second man drank the holy water and was saved.the third man went up to the father...third man: father, father, i have sinned!father: what have you done?third man: i peed in the holy water!',\n",
       " 'q. did you hear about the dyslexic devil worshiper?a. he sold his soul to santa.']"
      ]
     },
     "execution_count": 10,
     "metadata": {},
     "output_type": "execute_result"
    }
   ],
   "source": [
    "filter_bad_rating = user_ratings_train[user_ratings_train.rating < -8]\n",
    "jokes_bad_rating = filter_bad_rating.joke_id.unique()\n",
    "jokes_bad_rating.max()\n",
    "[text[i-1] for i in jokes_bad_rating][:5]"
   ]
  },
  {
   "cell_type": "code",
   "execution_count": 11,
   "metadata": {
    "collapsed": false
   },
   "outputs": [
    {
     "data": {
      "text/plain": [
       "count    1.218325e+06\n",
       "mean     7.232423e+01\n",
       "std      4.591434e+01\n",
       "min      1.000000e+00\n",
       "25%      2.300000e+01\n",
       "50%      7.000000e+01\n",
       "75%      1.140000e+02\n",
       "max      1.510000e+02\n",
       "Name: joke_id, dtype: float64"
      ]
     },
     "execution_count": 11,
     "metadata": {},
     "output_type": "execute_result"
    }
   ],
   "source": [
    "user_ratings_train.joke_id.describe().T"
   ]
  },
  {
   "cell_type": "markdown",
   "metadata": {},
   "source": [
    "## See if there is a correlation between the length of the joke and its rating"
   ]
  },
  {
   "cell_type": "code",
   "execution_count": 12,
   "metadata": {
    "collapsed": false
   },
   "outputs": [
    {
     "data": {
      "text/plain": [
       "<matplotlib.collections.PathCollection at 0x1174f4150>"
      ]
     },
     "execution_count": 12,
     "metadata": {},
     "output_type": "execute_result"
    },
    {
     "data": {
      "image/png": "[encoded data removed]",
      "text/plain": [
       "<matplotlib.figure.Figure at 0x104623510>"
      ]
     },
     "metadata": {},
     "output_type": "display_data"
    }
   ],
   "source": [
    "text = [line.translate(None, string.punctuation) for line in text]\n",
    "length_joke_id = np.zeros(user_ratings.shape[0])\n",
    "#length_joke_id = []\n",
    "for i, joke_id in enumerate(list(user_ratings_train.joke_id)):\n",
    "    length_joke_id[i] = len(text[joke_id - 1].split())\n",
    "user_ratings_train['length_joke_id'] = length_joke_id\n",
    "user_ratings_train.head()\n",
    "plt.scatter(x=user_ratings_train.length_joke_id, y=user_ratings_train.rating)"
   ]
  }
 ],
 "metadata": {
  "anaconda-cloud": {},
  "kernelspec": {
   "display_name": "Python [conda root]",
   "language": "python",
   "name": "conda-root-py"
  },
  "language_info": {
   "codemirror_mode": {
    "name": "ipython",
    "version": 2
   },
   "file_extension": ".py",
   "mimetype": "text/x-python",
   "name": "python",
   "nbconvert_exporter": "python",
   "pygments_lexer": "ipython2",
   "version": "2.7.12"
  }
 },
 "nbformat": 4,
 "nbformat_minor": 1
}
